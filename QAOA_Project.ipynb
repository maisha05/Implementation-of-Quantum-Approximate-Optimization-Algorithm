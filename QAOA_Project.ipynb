{
  "nbformat": 4,
  "nbformat_minor": 0,
  "metadata": {
    "colab": {
      "name": "QAOA_Project.ipynb",
      "provenance": []
    },
    "kernelspec": {
      "name": "python3",
      "display_name": "Python 3"
    },
    "language_info": {
      "name": "python"
    },
    "accelerator": "GPU",
    "gpuClass": "standard"
  },
  "cells": [
    {
      "cell_type": "code",
      "source": [
        "!pip install PennyLane"
      ],
      "metadata": {
        "colab": {
          "base_uri": "https://localhost:8080/"
        },
        "id": "PS1Jc_8kkFEG",
        "outputId": "3a877ad4-f594-4035-b520-628d4100781d"
      },
      "execution_count": 1,
      "outputs": [
        {
          "output_type": "stream",
          "name": "stdout",
          "text": [
            "Looking in indexes: https://pypi.org/simple, https://us-python.pkg.dev/colab-wheels/public/simple/\n",
            "Collecting PennyLane\n",
            "  Downloading PennyLane-0.24.0-py3-none-any.whl (957 kB)\n",
            "\u001b[K     |████████████████████████████████| 957 kB 31.8 MB/s \n",
            "\u001b[?25hRequirement already satisfied: cachetools in /usr/local/lib/python3.7/dist-packages (from PennyLane) (4.2.4)\n",
            "Requirement already satisfied: networkx in /usr/local/lib/python3.7/dist-packages (from PennyLane) (2.6.3)\n",
            "Collecting semantic-version==2.6\n",
            "  Downloading semantic_version-2.6.0-py3-none-any.whl (14 kB)\n",
            "Collecting autoray>=0.3.1\n",
            "  Downloading autoray-0.3.2-py3-none-any.whl (36 kB)\n",
            "Requirement already satisfied: scipy in /usr/local/lib/python3.7/dist-packages (from PennyLane) (1.7.3)\n",
            "Collecting retworkx\n",
            "  Downloading retworkx-0.11.0-cp37-cp37m-manylinux_2_5_x86_64.manylinux1_x86_64.manylinux_2_12_x86_64.manylinux2010_x86_64.whl (1.6 MB)\n",
            "\u001b[K     |████████████████████████████████| 1.6 MB 45.4 MB/s \n",
            "\u001b[?25hRequirement already satisfied: appdirs in /usr/local/lib/python3.7/dist-packages (from PennyLane) (1.4.4)\n",
            "Requirement already satisfied: autograd in /usr/local/lib/python3.7/dist-packages (from PennyLane) (1.4)\n",
            "Requirement already satisfied: toml in /usr/local/lib/python3.7/dist-packages (from PennyLane) (0.10.2)\n",
            "Collecting pennylane-lightning>=0.24\n",
            "  Downloading PennyLane_Lightning-0.24.0-cp37-cp37m-manylinux_2_17_x86_64.manylinux2014_x86_64.whl (9.3 MB)\n",
            "\u001b[K     |████████████████████████████████| 9.3 MB 16.4 MB/s \n",
            "\u001b[?25hRequirement already satisfied: numpy in /usr/local/lib/python3.7/dist-packages (from PennyLane) (1.21.6)\n",
            "Collecting ninja\n",
            "  Downloading ninja-1.10.2.3-py2.py3-none-manylinux_2_5_x86_64.manylinux1_x86_64.whl (108 kB)\n",
            "\u001b[K     |████████████████████████████████| 108 kB 56.1 MB/s \n",
            "\u001b[?25hRequirement already satisfied: future>=0.15.2 in /usr/local/lib/python3.7/dist-packages (from autograd->PennyLane) (0.16.0)\n",
            "Installing collected packages: ninja, semantic-version, retworkx, pennylane-lightning, autoray, PennyLane\n",
            "Successfully installed PennyLane-0.24.0 autoray-0.3.2 ninja-1.10.2.3 pennylane-lightning-0.24.0 retworkx-0.11.0 semantic-version-2.6.0\n"
          ]
        }
      ]
    },
    {
      "cell_type": "code",
      "execution_count": 2,
      "metadata": {
        "id": "oQQPO-G_jgvW"
      },
      "outputs": [],
      "source": [
        "from pennylane import qaoa\n",
        "from pennylane import numpy as np\n",
        "from matplotlib import pyplot as plt\n",
        "import networkx as nx"
      ]
    },
    {
      "cell_type": "code",
      "source": [
        "# edges = [(0, 1), (1, 2), (2, 0), (2, 3)]\n",
        "edges = [(0, 1), (1, 2), (2, 0), (1, 3),(1,4)]\n",
        "graph = nx.Graph(edges)\n",
        "\n",
        "nx.draw(graph, with_labels=True)\n",
        "plt.show()"
      ],
      "metadata": {
        "colab": {
          "base_uri": "https://localhost:8080/",
          "height": 319
        },
        "id": "nMQd4D8skUuj",
        "outputId": "52b431bb-5b74-472b-feb9-ab128f652a06"
      },
      "execution_count": 3,
      "outputs": [
        {
          "output_type": "display_data",
          "data": {
            "text/plain": [
              "<Figure size 432x288 with 1 Axes>"
            ],
            "image/png": "[encoded data removed]"
          },
          "metadata": {}
        }
      ]
    },
    {
      "cell_type": "code",
      "source": [
        "cost_h, mixer_h = qaoa.min_vertex_cover(graph, constrained=False)\n",
        "\n",
        "print(\"Cost Hamiltonian\", cost_h)\n",
        "print(\"Mixer Hamiltonian\", mixer_h)"
      ],
      "metadata": {
        "colab": {
          "base_uri": "https://localhost:8080/"
        },
        "id": "df3XMYRwmj4L",
        "outputId": "b207f569-6247-44fc-8848-0c86dce4f8df"
      },
      "execution_count": 4,
      "outputs": [
        {
          "output_type": "stream",
          "name": "stdout",
          "text": [
            "Cost Hamiltonian   (-0.25) [Z3]\n",
            "+ (-0.25) [Z4]\n",
            "+ (0.5) [Z0]\n",
            "+ (0.5) [Z2]\n",
            "+ (2.0) [Z1]\n",
            "+ (0.75) [Z0 Z1]\n",
            "+ (0.75) [Z0 Z2]\n",
            "+ (0.75) [Z1 Z2]\n",
            "+ (0.75) [Z1 Z3]\n",
            "+ (0.75) [Z1 Z4]\n",
            "Mixer Hamiltonian   (1) [X0]\n",
            "+ (1) [X1]\n",
            "+ (1) [X2]\n",
            "+ (1) [X3]\n",
            "+ (1) [X4]\n"
          ]
        }
      ]
    },
    {
      "cell_type": "code",
      "source": [
        "def qaoa_layer(gamma, alpha):\n",
        "    qaoa.cost_layer(gamma, cost_h)\n",
        "    qaoa.mixer_layer(alpha, mixer_h)"
      ],
      "metadata": {
        "id": "Yf7UWvU3myGh"
      },
      "execution_count": 5,
      "outputs": []
    },
    {
      "cell_type": "code",
      "source": [
        "wires = range(5)\n",
        "depth = 2\n",
        "\n",
        "def circuit(params, **kwargs):\n",
        "    for w in wires:\n",
        "        qml.Hadamard(wires=w)\n",
        "    qml.layer(qaoa_layer, depth, params[0], params[1])"
      ],
      "metadata": {
        "id": "f8cDyC1Nm15H"
      },
      "execution_count": 6,
      "outputs": []
    },
    {
      "cell_type": "code",
      "source": [
        "import pennylane as qml\n",
        "dev = qml.device('default.qubit', wires=wires)\n",
        "#dev = qml.device('qulacs.simulator', wires=wires, gpu=True)\n",
        "\n",
        "@qml.qnode(dev)\n",
        "def cost_function(params):\n",
        "    circuit(params)\n",
        "    return qml.expval(cost_h)"
      ],
      "metadata": {
        "id": "99VSV4Z_m7C7"
      },
      "execution_count": 7,
      "outputs": []
    },
    {
      "cell_type": "code",
      "source": [
        "qml.version()"
      ],
      "metadata": {
        "colab": {
          "base_uri": "https://localhost:8080/",
          "height": 36
        },
        "id": "_JTB0L1d17Dk",
        "outputId": "d16c8dc3-04c6-445f-d6fc-fa3b2ffab588"
      },
      "execution_count": null,
      "outputs": [
        {
          "output_type": "execute_result",
          "data": {
            "text/plain": [
              "'0.24.0'"
            ],
            "application/vnd.google.colaboratory.intrinsic+json": {
              "type": "string"
            }
          },
          "metadata": {},
          "execution_count": 21
        }
      ]
    },
    {
      "cell_type": "code",
      "source": [
        "#optimizer = qml.GradientDescentOptimizer()\n",
        "optimizer = qml.AdamOptimizer()\n",
        "steps = 70\n",
        "params = np.array([[0.5, 0.5], [0.5, 0.5]], requires_grad=True)"
      ],
      "metadata": {
        "id": "pTwDj1EOZ0S9"
      },
      "execution_count": 13,
      "outputs": []
    },
    {
      "cell_type": "code",
      "source": [
        "optimizer1 = qml.GradientDescentOptimizer()\n",
        "#optimizer = qml.AdamOptimizer()\n",
        "steps = 70\n",
        "params1 = np.array([[0.5, 0.5], [0.5, 0.5]], requires_grad=True)"
      ],
      "metadata": {
        "id": "sAfoPKspenhl"
      },
      "execution_count": 21,
      "outputs": []
    },
    {
      "cell_type": "code",
      "source": [
        "for i in range(steps):\n",
        "    params = optimizer.step(cost_function, params)\n",
        "\n",
        "print(\"Optimal Parameters\")\n",
        "print(params)"
      ],
      "metadata": {
        "colab": {
          "base_uri": "https://localhost:8080/"
        },
        "id": "umWlI2lBZ47d",
        "outputId": "989fecd6-4125-4565-a01a-9d3802f051c7"
      },
      "execution_count": 15,
      "outputs": [
        {
          "output_type": "stream",
          "name": "stdout",
          "text": [
            "Optimal Parameters\n",
            "[[0.63897491 0.93136561]\n",
            " [0.50460063 0.94637668]]\n"
          ]
        }
      ]
    },
    {
      "cell_type": "code",
      "source": [
        "for i in range(steps):\n",
        "    params1 = optimizer1.step(cost_function, params1)\n",
        "\n",
        "print(\"Optimal Parameters\")\n",
        "print(params1)"
      ],
      "metadata": {
        "colab": {
          "base_uri": "https://localhost:8080/"
        },
        "id": "C09MdZbXer6j",
        "outputId": "0f173edf-3c24-4457-dc7a-96e1ae4fbb1a"
      },
      "execution_count": 22,
      "outputs": [
        {
          "output_type": "stream",
          "name": "stdout",
          "text": [
            "Optimal Parameters\n",
            "[[0.49296023 1.10762843]\n",
            " [0.57017388 0.96653061]]\n"
          ]
        }
      ]
    },
    {
      "cell_type": "code",
      "source": [
        "@qml.qnode(dev)\n",
        "def probability_circuit(gamma, alpha):\n",
        "    circuit([gamma, alpha])\n",
        "    return qml.probs(wires=wires)\n",
        "\n",
        "probs = probability_circuit(params[0], params[1])"
      ],
      "metadata": {
        "id": "rKlICp6ZceKR"
      },
      "execution_count": 17,
      "outputs": []
    },
    {
      "cell_type": "code",
      "source": [
        "@qml.qnode(dev)\n",
        "def probability_circuit(gamma, alpha):\n",
        "    circuit([gamma, alpha])\n",
        "    return qml.probs(wires=wires)\n",
        "\n",
        "probs1 = probability_circuit(params1[0], params1[1])"
      ],
      "metadata": {
        "id": "4JDgJM9Pe9A-"
      },
      "execution_count": 23,
      "outputs": []
    },
    {
      "cell_type": "code",
      "source": [
        "plt.style.use(\"seaborn\")\n",
        "plt.bar(range(2 ** len(wires)), probs)\n",
        "plt.show()"
      ],
      "metadata": {
        "id": "XMgv5wPPcnMw",
        "outputId": "5443556b-a4b6-4bde-c8f0-d82b2501442c",
        "colab": {
          "base_uri": "https://localhost:8080/",
          "height": 347
        }
      },
      "execution_count": 19,
      "outputs": [
        {
          "output_type": "display_data",
          "data": {
            "text/plain": [
              "<Figure size 576x396 with 1 Axes>"
            ],
            "image/png": "[encoded data removed]"
          },
          "metadata": {}
        }
      ]
    },
    {
      "cell_type": "code",
      "source": [
        "plt.style.use(\"seaborn\")\n",
        "plt.bar(range(2 ** len(wires)), probs1)\n",
        "plt.show()"
      ],
      "metadata": {
        "colab": {
          "base_uri": "https://localhost:8080/",
          "height": 347
        },
        "id": "-gCzcFK-fBle",
        "outputId": "09fa2491-a25a-4ef3-c46e-39e770aa620d"
      },
      "execution_count": 24,
      "outputs": [
        {
          "output_type": "display_data",
          "data": {
            "text/plain": [
              "<Figure size 576x396 with 1 Axes>"
            ],
            "image/png": "[encoded data removed]"
          },
          "metadata": {}
        }
      ]
    }
  ]
}